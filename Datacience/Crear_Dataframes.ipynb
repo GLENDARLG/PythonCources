{
  "cells": [
    {
      "cell_type": "code",
      "execution_count": 2,
      "metadata": {
        "id": "QEvi7xlla_7a"
      },
      "outputs": [
        {
          "name": "stdout",
          "output_type": "stream",
          "text": [
            "       InvoiceNo StockCode                          Description  Quantity  \\\n",
            "0         536365    85123A   WHITE HANGING HEART T-LIGHT HOLDER         6   \n",
            "1         536365     71053                  WHITE METAL LANTERN         6   \n",
            "2         536365    84406B       CREAM CUPID HEARTS COAT HANGER         8   \n",
            "3         536365    84029G  KNITTED UNION FLAG HOT WATER BOTTLE         6   \n",
            "4         536365    84029E       RED WOOLLY HOTTIE WHITE HEART.         6   \n",
            "...          ...       ...                                  ...       ...   \n",
            "541904    581587     22613          PACK OF 20 SPACEBOY NAPKINS        12   \n",
            "541905    581587     22899         CHILDREN'S APRON DOLLY GIRL          6   \n",
            "541906    581587     23254        CHILDRENS CUTLERY DOLLY GIRL          4   \n",
            "541907    581587     23255      CHILDRENS CUTLERY CIRCUS PARADE         4   \n",
            "541908    581587     22138        BAKING SET 9 PIECE RETROSPOT          3   \n",
            "\n",
            "                InvoiceDate  UnitPrice  CustomerID         Country  \n",
            "0       2010-12-01 08:26:00       2.55     17850.0  United Kingdom  \n",
            "1       2010-12-01 08:26:00       3.39     17850.0  United Kingdom  \n",
            "2       2010-12-01 08:26:00       2.75     17850.0  United Kingdom  \n",
            "3       2010-12-01 08:26:00       3.39     17850.0  United Kingdom  \n",
            "4       2010-12-01 08:26:00       3.39     17850.0  United Kingdom  \n",
            "...                     ...        ...         ...             ...  \n",
            "541904  2011-12-09 12:50:00       0.85     12680.0          France  \n",
            "541905  2011-12-09 12:50:00       2.10     12680.0          France  \n",
            "541906  2011-12-09 12:50:00       4.15     12680.0          France  \n",
            "541907  2011-12-09 12:50:00       4.15     12680.0          France  \n",
            "541908  2011-12-09 12:50:00       4.95     12680.0          France  \n",
            "\n",
            "[541909 rows x 8 columns]\n"
          ]
        }
      ],
      "source": [
        "import pandas as pd\n",
        "\n",
        "#file_path = '/content/online_retail.csv'\n",
        "#sales_data = pd.read_csv(file_path)\n",
        "#print(sales_data.head())\n",
        "path = 'data/online_retail.csv'\n",
        "retail_data = pd.read_csv(path)\n",
        "\n",
        "#Excel\n",
        "#data_excel = pd.read_excel(path)\n",
        "\n",
        "#JSON\n",
        "#data_json = pd.read_json(path)\n",
        "\n",
        "#print(type(retail_data))\n",
        "print(retail_data)"
      ]
    },
    {
      "cell_type": "code",
      "execution_count": 3,
      "metadata": {
        "colab": {
          "base_uri": "https://localhost:8080/"
        },
        "id": "lNVYt1VEb_Es",
        "outputId": "c5185e8d-54d8-4caf-a56f-f847e408d5cf"
      },
      "outputs": [
        {
          "name": "stdout",
          "output_type": "stream",
          "text": [
            "   A  B  c\n",
            "0  1  2  3\n",
            "1  4  5  6\n",
            "2  7  8  9\n"
          ]
        }
      ],
      "source": [
        "import numpy as np\n",
        "\n",
        "data = np.array([[1,2,3], [4,5,6], [7,8,9]])\n",
        "\n",
        "dt_from_array = pd.DataFrame(data, columns=['A','B', 'c'])\n",
        "print(dt_from_array)"
      ]
    },
    {
      "cell_type": "code",
      "execution_count": 4,
      "metadata": {
        "colab": {
          "base_uri": "https://localhost:8080/"
        },
        "id": "F-117BlScF-S",
        "outputId": "b3230678-1cee-4e0f-f926-80c376a3a878"
      },
      "outputs": [
        {
          "name": "stdout",
          "output_type": "stream",
          "text": [
            "   ID  Name  Age\n",
            "0   1  Jhon   22\n",
            "1   2  Anna   24\n"
          ]
        }
      ],
      "source": [
        "data = [[1,'Jhon', 22], [2,'Anna', 24]]\n",
        "\n",
        "df_from_list = pd.DataFrame(data, columns = ['ID', 'Name', 'Age'])\n",
        "print(df_from_list)"
      ]
    },
    {
      "cell_type": "code",
      "execution_count": 5,
      "metadata": {
        "colab": {
          "base_uri": "https://localhost:8080/"
        },
        "id": "05KpybBncFzK",
        "outputId": "c688b272-3ced-4ddd-bea3-b797e2306850"
      },
      "outputs": [
        {
          "name": "stdout",
          "output_type": "stream",
          "text": [
            "   ID  Name  Age\n",
            "0   1  Jhon   22\n"
          ]
        }
      ],
      "source": [
        "data = [{'ID': 1,\n",
        "         'Name': 'Jhon',\n",
        "         'Age' : 22}]\n",
        "dt_from_dict_list = pd.DataFrame(data)\n",
        "print(dt_from_dict_list )"
      ]
    },
    {
      "cell_type": "code",
      "execution_count": 6,
      "metadata": {
        "colab": {
          "base_uri": "https://localhost:8080/"
        },
        "id": "OEMxU56LcA4a",
        "outputId": "ba9603f6-9903-42b8-d1c1-63415660efbe"
      },
      "outputs": [
        {
          "name": "stdout",
          "output_type": "stream",
          "text": [
            "   ID  Name  Age\n",
            "0   1  Jhon   22\n",
            "1   2  Anna   24\n",
            "2   3  Mike   21\n"
          ]
        }
      ],
      "source": [
        "data = {'ID': [1,2,3], 'Name': ['Jhon', 'Anna', 'Mike'], 'Age': [22,24,21]}\n",
        "\n",
        "df_from_dict = pd.DataFrame(data)\n",
        "print(df_from_dict)"
      ]
    },
    {
      "cell_type": "code",
      "execution_count": 7,
      "metadata": {
        "colab": {
          "base_uri": "https://localhost:8080/"
        },
        "id": "FXU5IbvlcKMr",
        "outputId": "d6e82366-51f4-4e83-8e50-88efd7e95296"
      },
      "outputs": [
        {
          "name": "stdout",
          "output_type": "stream",
          "text": [
            "   ID  Name  Age\n",
            "0   1  Jhon   22\n",
            "1   2  Anna   24\n",
            "2   3  Mike   21\n"
          ]
        }
      ],
      "source": [
        "data = {'ID': pd.Series([1,2,3]),\n",
        "        'Name': pd.Series(['Jhon', 'Anna', 'Mike']),\n",
        "        'Age': pd.Series([22,24,21])}\n",
        "\n",
        "df_from_series_dict = pd.DataFrame(data)\n",
        "print(df_from_series_dict)"
      ]
    },
    {
      "cell_type": "code",
      "execution_count": 10,
      "metadata": {
        "id": "jdvdjvu8cLdx"
      },
      "outputs": [
        {
          "ename": "ModuleNotFoundError",
          "evalue": "No module named 'google'",
          "output_type": "error",
          "traceback": [
            "\u001b[31m---------------------------------------------------------------------------\u001b[39m",
            "\u001b[31mModuleNotFoundError\u001b[39m                       Traceback (most recent call last)",
            "\u001b[36mCell\u001b[39m\u001b[36m \u001b[39m\u001b[32mIn[10]\u001b[39m\u001b[32m, line 1\u001b[39m\n\u001b[32m----> \u001b[39m\u001b[32m1\u001b[39m \u001b[38;5;28;01mfrom\u001b[39;00m\u001b[38;5;250m \u001b[39m\u001b[34;01mgoogle\u001b[39;00m\u001b[34;01m.\u001b[39;00m\u001b[34;01mcolab\u001b[39;00m\u001b[38;5;250m \u001b[39m\u001b[38;5;28;01mimport\u001b[39;00m drive\n\u001b[32m      3\u001b[39m drive.mount(\u001b[33m'\u001b[39m\u001b[33m/content/drive\u001b[39m\u001b[33m'\u001b[39m)\n\u001b[32m      4\u001b[39m file_path = \u001b[33m\"\u001b[39m\u001b[33m/content/drive/My Drive/online_retail.csv\u001b[39m\u001b[33m\"\u001b[39m\n",
            "\u001b[31mModuleNotFoundError\u001b[39m: No module named 'google'"
          ]
        }
      ],
      "source": [
        "from google.colab import drive\n",
        "\n",
        "drive.mount('/content/drive')\n",
        "file_path = \"/content/drive/My Drive/online_retail.csv\"\n",
        "\n",
        "sales_data = pd.read_csv(file_path)\n",
        "print(sales_data.head())"
      ]
    },
    {
      "cell_type": "code",
      "execution_count": 9,
      "metadata": {
        "id": "EvUH2x06cOqg"
      },
      "outputs": [
        {
          "ename": "ModuleNotFoundError",
          "evalue": "No module named 'google'",
          "output_type": "error",
          "traceback": [
            "\u001b[31m---------------------------------------------------------------------------\u001b[39m",
            "\u001b[31mModuleNotFoundError\u001b[39m                       Traceback (most recent call last)",
            "\u001b[36mCell\u001b[39m\u001b[36m \u001b[39m\u001b[32mIn[9]\u001b[39m\u001b[32m, line 1\u001b[39m\n\u001b[32m----> \u001b[39m\u001b[32m1\u001b[39m \u001b[38;5;28;01mfrom\u001b[39;00m\u001b[38;5;250m \u001b[39m\u001b[34;01mgoogle\u001b[39;00m\u001b[34;01m.\u001b[39;00m\u001b[34;01mcolab\u001b[39;00m\u001b[38;5;250m \u001b[39m\u001b[38;5;28;01mimport\u001b[39;00m drive\n\u001b[32m      2\u001b[39m drive.mount(\u001b[33m'\u001b[39m\u001b[33m/content/drive\u001b[39m\u001b[33m'\u001b[39m)\n",
            "\u001b[31mModuleNotFoundError\u001b[39m: No module named 'google'"
          ]
        }
      ],
      "source": [
        "from google.colab import drive\n",
        "drive.mount('/content/drive')"
      ]
    }
  ],
  "metadata": {
    "colab": {
      "provenance": []
    },
    "kernelspec": {
      "display_name": "DC",
      "language": "python",
      "name": "python3"
    },
    "language_info": {
      "codemirror_mode": {
        "name": "ipython",
        "version": 3
      },
      "file_extension": ".py",
      "mimetype": "text/x-python",
      "name": "python",
      "nbconvert_exporter": "python",
      "pygments_lexer": "ipython3",
      "version": "3.13.2"
    }
  },
  "nbformat": 4,
  "nbformat_minor": 0
}
