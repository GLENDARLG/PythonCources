{
 "cells": [
  {
   "cell_type": "code",
   "execution_count": 2,
   "metadata": {},
   "outputs": [],
   "source": [
    "import numpy as np "
   ]
  },
  {
   "cell_type": "code",
   "execution_count": 9,
   "metadata": {},
   "outputs": [
    {
     "name": "stdout",
     "output_type": "stream",
     "text": [
      "2\n",
      "1\n",
      "[2 3 4]\n",
      "[2 3 4 5 6 7]\n",
      "[]\n",
      "[False False False  True  True  True  True]\n",
      "[3 5 1]\n",
      "[[ 3  8  9]\n",
      " [ 9 10  6]\n",
      " [ 7 10 10]]\n",
      "9\n",
      "[[3 8]]\n"
     ]
    }
   ],
   "source": [
    "\n",
    "# slicing\n",
    "array = np.array([1,2,3,4,5,6,7])\n",
    "print(array[1])\n",
    "print(array[0])\n",
    "print(array[1:4])\n",
    "print(array[1:11])\n",
    "print(array[-1:-11])\n",
    "# indexacion booleana\n",
    "bool_index = array >= 4\n",
    "print(bool_index)\n",
    "# acceder mediante indices\n",
    "a_index = [2,4,0]\n",
    "print(array[a_index])\n",
    "\n",
    "\n",
    "\n",
    "#slicing con matrices\n",
    "matriz = np.random.randint(1,11,size=(3,3))\n",
    "print(matriz)\n",
    "print(matriz[1,0])\n",
    "\n",
    "print(matriz[:1,:2])\n"
   ]
  },
  {
   "cell_type": "code",
   "execution_count": null,
   "metadata": {},
   "outputs": [
    {
     "name": "stdout",
     "output_type": "stream",
     "text": [
      "[[218 109 167]\n",
      " [283 265 257]\n",
      " [120 127 174]]\n",
      "[[54.5  27.25 41.75]\n",
      " [70.75 66.25 64.25]\n",
      " [30.   31.75 43.5 ]]\n",
      "[[163.5   81.75 125.25]\n",
      " [212.25 198.75 192.75]\n",
      " [ 90.    95.25 130.5 ]]\n",
      "True\n",
      "False\n",
      "True\n",
      "False\n",
      "[[1 2 3]\n",
      " [4 5 6]\n",
      " [7 8 9]]\n",
      "[[ 1  2  3 10]\n",
      " [ 4  5  6 20]]\n",
      "[[1 2 3]\n",
      " [4 5 6]\n",
      " [7 8 9]]\n"
     ]
    },
    {
     "ename": "UFuncTypeError",
     "evalue": "ufunc 'add' did not contain a loop with signature matching types (dtype('<U2'), dtype('int64')) -> None",
     "output_type": "error",
     "traceback": [
      "\u001b[31m---------------------------------------------------------------------------\u001b[39m",
      "\u001b[31mUFuncTypeError\u001b[39m                            Traceback (most recent call last)",
      "\u001b[36mCell\u001b[39m\u001b[36m \u001b[39m\u001b[32mIn[24]\u001b[39m\u001b[32m, line 44\u001b[39m\n\u001b[32m     42\u001b[39m V = np.vstack((A, B))\n\u001b[32m     43\u001b[39m H = np.hstack((A, D)) \n\u001b[32m---> \u001b[39m\u001b[32m44\u001b[39m \u001b[38;5;28mprint\u001b[39m(\u001b[33;43m'\u001b[39;49m\u001b[33;43mA:\u001b[39;49m\u001b[33;43m'\u001b[39;49m\u001b[43m+\u001b[49m\u001b[43m \u001b[49m\u001b[43mA\u001b[49m)\n\u001b[32m     45\u001b[39m \u001b[38;5;28mprint\u001b[39m(\u001b[33m'\u001b[39m\u001b[33mB:\u001b[39m\u001b[33m'\u001b[39m+ B)\n\u001b[32m     46\u001b[39m \u001b[38;5;28mprint\u001b[39m(\u001b[33m'\u001b[39m\u001b[33mV:\u001b[39m\u001b[33m'\u001b[39m+ V)\n",
      "\u001b[31mUFuncTypeError\u001b[39m: ufunc 'add' did not contain a loop with signature matching types (dtype('<U2'), dtype('int64')) -> None"
     ]
    }
   ],
   "source": [
    "#broadcasting con numpy\n",
    "prices = np.random.randint(100,300,(3,3))\n",
    "discount = np.array([0.25])\n",
    "discounted_prices = prices * discount\n",
    "print(prices)\n",
    "print(discounted_prices ) \n",
    "\n",
    "print(prices - discounted_prices) \n",
    "\n",
    "#operaciones logicas\n",
    "\n",
    "print(np.all(prices > 0))\n",
    "print(np.all(prices < 0))\n",
    "print(np.all(prices < 500))\n",
    "print(np.all(prices < 100))\n",
    "\n",
    "\n",
    "#concatenacion\n",
    "\n",
    "\n",
    "#matrices\n",
    "A = np.array([[1, 2, 3], [4, 5, 6]])  # Shape (2, 3)\n",
    "B = np.array([[7, 8, 9]])             # Shape (1, 3)\n",
    "\n",
    "C = np.concatenate((A, B), axis=0)  # Une por filas (verticalmente)\n",
    "print(C) \n",
    "\n",
    "D = np.array([[10], [20]])  # Shape (2,1)\n",
    "\n",
    "E = np.concatenate((A, D), axis=1)  # Une por columnas (horizontalmente)\n",
    "print(E)\n",
    "\n",
    "F = np.concatenate((A,B), axis=0)\n",
    "print(F)\n",
    "#vstaking\n",
    "\n",
    "#np.concatenate((A, D), axis=1)\n",
    "\n",
    "#✔ np.vstack((A, B)) → Une verticalmente (equivalente a axis=0).\n",
    "#✔ np.hstack((A, B)) → Une horizontalmente (equivalente a axis=1).\n",
    "#✔ np.dstack((A, B)) → Une en el tercer eje (útil para imágenes).\n",
    "V = np.vstack((A, B))\n",
    "H = np.hstack((A, D)) \n",
    "print('A:'+ A)\n",
    "print('B:'+ B)\n",
    "print('V:'+ V)\n",
    "print('H:'+ H)"
   ]
  },
  {
   "cell_type": "code",
   "execution_count": null,
   "metadata": {},
   "outputs": [],
   "source": []
  }
 ],
 "metadata": {
  "kernelspec": {
   "display_name": "DC",
   "language": "python",
   "name": "python3"
  },
  "language_info": {
   "codemirror_mode": {
    "name": "ipython",
    "version": 3
   },
   "file_extension": ".py",
   "mimetype": "text/x-python",
   "name": "python",
   "nbconvert_exporter": "python",
   "pygments_lexer": "ipython3",
   "version": "3.13.2"
  }
 },
 "nbformat": 4,
 "nbformat_minor": 2
}
