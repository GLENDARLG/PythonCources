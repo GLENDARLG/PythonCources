{
 "cells": [
  {
   "cell_type": "code",
   "execution_count": 2,
   "metadata": {},
   "outputs": [],
   "source": [
    "import numpy as np "
   ]
  },
  {
   "cell_type": "code",
   "execution_count": null,
   "metadata": {},
   "outputs": [],
   "source": []
  },
  {
   "cell_type": "code",
   "execution_count": 3,
   "metadata": {},
   "outputs": [
    {
     "name": "stdout",
     "output_type": "stream",
     "text": [
      "2\n",
      "1\n",
      "[2 3 4]\n",
      "[2 3 4 5 6 7]\n",
      "[]\n",
      "[False False False  True  True  True  True]\n",
      "[3 5 1]\n",
      "[[5 9 8]\n",
      " [5 9 7]\n",
      " [3 5 8]]\n",
      "5\n",
      "[[5 9]]\n"
     ]
    }
   ],
   "source": [
    "\n",
    "# slicing\n",
    "array = np.array([1,2,3,4,5,6,7])\n",
    "print(array[1])\n",
    "print(array[0])\n",
    "print(array[1:4])\n",
    "print(array[1:11])\n",
    "print(array[-1:-11])\n",
    "# indexacion booleana\n",
    "bool_index = array >= 4\n",
    "print(bool_index)\n",
    "# acceder mediante indices\n",
    "a_index = [2,4,0]\n",
    "print(array[a_index])\n",
    "\n",
    "\n",
    "\n",
    "#slicing con matrices\n",
    "matriz = np.random.randint(1,11,size=(3,3))\n",
    "print(matriz)\n",
    "print(matriz[1,0])\n",
    "\n",
    "print(matriz[:1,:2])\n"
   ]
  },
  {
   "cell_type": "code",
   "execution_count": 4,
   "metadata": {},
   "outputs": [
    {
     "name": "stdout",
     "output_type": "stream",
     "text": [
      "[[105 135 259]\n",
      " [268 140 146]\n",
      " [262 232 163]]\n",
      "[[26.25 33.75 64.75]\n",
      " [67.   35.   36.5 ]\n",
      " [65.5  58.   40.75]]\n",
      "[[ 78.75 101.25 194.25]\n",
      " [201.   105.   109.5 ]\n",
      " [196.5  174.   122.25]]\n",
      "True\n",
      "False\n",
      "True\n",
      "False\n",
      "[[1 2 3]\n",
      " [4 5 6]\n",
      " [7 8 9]]\n",
      "[[ 1  2  3 10]\n",
      " [ 4  5  6 20]]\n",
      "[[1 2 3]\n",
      " [4 5 6]\n",
      " [7 8 9]]\n",
      "[[1 2 3]\n",
      " [4 5 6]]\n",
      "[[7 8 9]]\n",
      "[[1 2 3]\n",
      " [4 5 6]\n",
      " [7 8 9]]\n",
      "[[ 1  2  3 10]\n",
      " [ 4  5  6 20]]\n"
     ]
    }
   ],
   "source": [
    "#broadcasting con numpy\n",
    "prices = np.random.randint(100,300,(3,3))\n",
    "discount = np.array([0.25])\n",
    "discounted_prices = prices * discount\n",
    "print(prices)\n",
    "print(discounted_prices ) \n",
    "\n",
    "print(prices - discounted_prices) \n",
    "\n",
    "#operaciones logicas\n",
    "\n",
    "print(np.all(prices > 0))\n",
    "print(np.all(prices < 0))\n",
    "print(np.all(prices < 500))\n",
    "print(np.all(prices < 100))\n",
    "\n",
    "\n",
    "#concatenacion\n",
    "\n",
    "\n",
    "#matrices\n",
    "A = np.array([[1, 2, 3], [4, 5, 6]])  # Shape (2, 3)\n",
    "B = np.array([[7, 8, 9]])             # Shape (1, 3)\n",
    "\n",
    "C = np.concatenate((A, B), axis=0)  # Une por filas (verticalmente)\n",
    "print(C) \n",
    "\n",
    "D = np.array([[10], [20]])  # Shape (2,1)\n",
    "\n",
    "E = np.concatenate((A, D), axis=1)  # Une por columnas (horizontalmente)\n",
    "print(E)\n",
    "\n",
    "F = np.concatenate((A,B), axis=0)\n",
    "print(F)\n",
    "#vstaking\n",
    "\n",
    "#np.concatenate((A, D), axis=1)\n",
    "\n",
    "#✔ np.vstack((A, B)) → Une verticalmente (equivalente a axis=0).\n",
    "#✔ np.hstack((A, B)) → Une horizontalmente (equivalente a axis=1).\n",
    "#✔ np.dstack((A, B)) → Une en el tercer eje (útil para imágenes).\n",
    "V = np.vstack((A, B))\n",
    "H = np.hstack((A, D)) \n",
    "print( A)\n",
    "print( B)\n",
    "print( V)\n",
    "print(H)\n",
    "\n"
   ]
  },
  {
   "cell_type": "code",
   "execution_count": 5,
   "metadata": {},
   "outputs": [
    {
     "name": "stdout",
     "output_type": "stream",
     "text": [
      "[1 2 3 4 5 6 7 8 9]\n",
      "[array([1, 2, 3, 4, 5, 6, 7, 8, 9])]\n"
     ]
    }
   ],
   "source": [
    "array_c = np.arange(1,10)\n",
    "split_array = np.split(array_c,1)\n",
    "print(array_c)\n",
    "print(split_array)"
   ]
  },
  {
   "cell_type": "code",
   "execution_count": 6,
   "metadata": {},
   "outputs": [
    {
     "name": "stdout",
     "output_type": "stream",
     "text": [
      "{np.str_('bueno'): np.int64(4), np.str_('excelente'): np.int64(2), np.str_('malo'): np.int64(4)}\n"
     ]
    }
   ],
   "source": [
    "survey_responses = np.array([\"bueno\", \"excelente\", \"malo\", \"bueno\", \"bueno\", \"malo\", \"malo\", \"bueno\", \"excelente\", \"malo\"])\n",
    "unique_elements, counts_elements = np.unique(survey_responses, return_counts=True)\n",
    "counts = dict(zip(unique_elements, counts_elements))\n",
    "print(counts)"
   ]
  },
  {
   "cell_type": "code",
   "execution_count": 8,
   "metadata": {},
   "outputs": [
    {
     "name": "stdout",
     "output_type": "stream",
     "text": [
      "[0 1 2 3 4 5 6 7 8 9]\n",
      "[1 2]\n",
      "[ 0 10 11  3  4  5  6  7  8  9]\n",
      "[10 11]\n",
      "[ 0 12 13  3  4  5  6  7  8  9]\n",
      "[10 11]\n"
     ]
    }
   ],
   "source": [
    "x = np.arange(10)\n",
    "vista = x[1:3]\n",
    "\n",
    "print(x)\n",
    "print(vista)\n",
    "\n",
    "# Modificar la vista\n",
    "x[1:3] = [10, 11]\n",
    "print(x)\n",
    "print(vista)\n",
    "\n",
    "# Crear una copia de la porción del array\n",
    "copia = x[1:3].copy()\n",
    "\n",
    "# Hacer cambios en el array original\n",
    "x[1:3] = [12, 13]\n",
    "print(x)\n",
    "print(copia)"
   ]
  }
 ],
 "metadata": {
  "kernelspec": {
   "display_name": "DC",
   "language": "python",
   "name": "python3"
  },
  "language_info": {
   "codemirror_mode": {
    "name": "ipython",
    "version": 3
   },
   "file_extension": ".py",
   "mimetype": "text/x-python",
   "name": "python",
   "nbconvert_exporter": "python",
   "pygments_lexer": "ipython3",
   "version": "3.13.2"
  }
 },
 "nbformat": 4,
 "nbformat_minor": 2
}
