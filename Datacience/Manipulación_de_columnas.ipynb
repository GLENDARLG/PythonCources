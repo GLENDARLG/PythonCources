{
  "cells": [
    {
      "cell_type": "markdown",
      "metadata": {
        "id": "uI7_YNwXlMe1"
      },
      "source": [
        "# Manipulación de columnas"
      ]
    },
    {
      "cell_type": "code",
      "execution_count": 2,
      "metadata": {
        "id": "2T4M6lUdIuMZ"
      },
      "outputs": [],
      "source": [
        "import pandas as pd\n",
        "\n",
        "path = 'data/online_retail.csv'\n",
        "df = pd.read_csv(path)"
      ]
    },
    {
      "cell_type": "code",
      "execution_count": 3,
      "metadata": {
        "colab": {
          "base_uri": "https://localhost:8080/"
        },
        "id": "HU_5800BKFCy",
        "outputId": "27a15f76-51a4-43bc-dddd-18161d5dc79a"
      },
      "outputs": [
        {
          "name": "stdout",
          "output_type": "stream",
          "text": [
            "  InvoiceNo StockCode                          Description  Quantity  \\\n",
            "0    536365    85123A   WHITE HANGING HEART T-LIGHT HOLDER         6   \n",
            "1    536365     71053                  WHITE METAL LANTERN         6   \n",
            "2    536365    84406B       CREAM CUPID HEARTS COAT HANGER         8   \n",
            "3    536365    84029G  KNITTED UNION FLAG HOT WATER BOTTLE         6   \n",
            "4    536365    84029E       RED WOOLLY HOTTIE WHITE HEART.         6   \n",
            "\n",
            "           InvoiceDate  UnitPrice  CustomerID         Country  TotalPrice  \n",
            "0  2010-12-01 08:26:00       2.55     17850.0  United Kingdom       15.30  \n",
            "1  2010-12-01 08:26:00       3.39     17850.0  United Kingdom       20.34  \n",
            "2  2010-12-01 08:26:00       2.75     17850.0  United Kingdom       22.00  \n",
            "3  2010-12-01 08:26:00       3.39     17850.0  United Kingdom       20.34  \n",
            "4  2010-12-01 08:26:00       3.39     17850.0  United Kingdom       20.34  \n"
          ]
        }
      ],
      "source": [
        "df['TotalPrice'] = df['Quantity'] * df['UnitPrice']\n",
        "\n",
        "print(df.head())"
      ]
    },
    {
      "cell_type": "code",
      "execution_count": 4,
      "metadata": {
        "colab": {
          "base_uri": "https://localhost:8080/"
        },
        "id": "UG247wHtKUmR",
        "outputId": "65b31b82-2382-4ff9-8e79-135540140cf9"
      },
      "outputs": [
        {
          "name": "stdout",
          "output_type": "stream",
          "text": [
            "0    False\n",
            "1     True\n",
            "2     True\n",
            "3     True\n",
            "4     True\n",
            "5    False\n",
            "6     True\n",
            "7    False\n",
            "8    False\n",
            "9     True\n",
            "Name: HighValue, dtype: bool\n"
          ]
        }
      ],
      "source": [
        "df['HighValue'] = df['TotalPrice'] > 16\n",
        "print(df['HighValue'].head(10))"
      ]
    },
    {
      "cell_type": "code",
      "execution_count": 5,
      "metadata": {
        "colab": {
          "base_uri": "https://localhost:8080/"
        },
        "id": "HTajpFq2KWKW",
        "outputId": "bf56d195-5914-4293-8cc4-82ac46a51dc2"
      },
      "outputs": [
        {
          "name": "stdout",
          "output_type": "stream",
          "text": [
            "<class 'pandas.core.frame.DataFrame'>\n",
            "RangeIndex: 541909 entries, 0 to 541908\n",
            "Data columns (total 10 columns):\n",
            " #   Column       Non-Null Count   Dtype  \n",
            "---  ------       --------------   -----  \n",
            " 0   InvoiceNo    541909 non-null  object \n",
            " 1   StockCode    541909 non-null  object \n",
            " 2   Description  540455 non-null  object \n",
            " 3   Quantity     541909 non-null  int64  \n",
            " 4   InvoiceDate  541909 non-null  object \n",
            " 5   UnitPrice    541909 non-null  float64\n",
            " 6   CustomerID   406829 non-null  float64\n",
            " 7   Country      541909 non-null  object \n",
            " 8   TotalPrice   541909 non-null  float64\n",
            " 9   HighValue    541909 non-null  bool   \n",
            "dtypes: bool(1), float64(3), int64(1), object(5)\n",
            "memory usage: 37.7+ MB\n",
            "None\n"
          ]
        }
      ],
      "source": [
        "print(df.info())"
      ]
    },
    {
      "cell_type": "code",
      "execution_count": 6,
      "metadata": {
        "colab": {
          "base_uri": "https://localhost:8080/"
        },
        "id": "xkxfT_e0KXs2",
        "outputId": "3842537b-d0a7-4e6d-b96e-fb13137a4a28"
      },
      "outputs": [
        {
          "name": "stdout",
          "output_type": "stream",
          "text": [
            "<class 'pandas.core.frame.DataFrame'>\n",
            "RangeIndex: 541909 entries, 0 to 541908\n",
            "Data columns (total 10 columns):\n",
            " #   Column       Non-Null Count   Dtype         \n",
            "---  ------       --------------   -----         \n",
            " 0   InvoiceNo    541909 non-null  object        \n",
            " 1   StockCode    541909 non-null  object        \n",
            " 2   Description  540455 non-null  object        \n",
            " 3   Quantity     541909 non-null  int64         \n",
            " 4   InvoiceDate  541909 non-null  datetime64[ns]\n",
            " 5   UnitPrice    541909 non-null  float64       \n",
            " 6   CustomerID   406829 non-null  float64       \n",
            " 7   Country      541909 non-null  object        \n",
            " 8   TotalPrice   541909 non-null  float64       \n",
            " 9   HighValue    541909 non-null  bool          \n",
            "dtypes: bool(1), datetime64[ns](1), float64(3), int64(1), object(4)\n",
            "memory usage: 37.7+ MB\n",
            "None\n"
          ]
        }
      ],
      "source": [
        "df['InvoiceDate'] = pd.to_datetime(df['InvoiceDate'])\n",
        "print(df.info())"
      ]
    },
    {
      "cell_type": "code",
      "execution_count": 7,
      "metadata": {
        "colab": {
          "base_uri": "https://localhost:8080/"
        },
        "id": "1-nvlATSKZ2n",
        "outputId": "e8616895-6ecd-4f27-ba0a-9cb9748a2389"
      },
      "outputs": [
        {
          "name": "stdout",
          "output_type": "stream",
          "text": [
            "  InvoiceNo StockCode                         Description  Quantity  \\\n",
            "0    536365    85123A  WHITE HANGING HEART T-LIGHT HOLDER         6   \n",
            "1    536365     71053                 WHITE METAL LANTERN         6   \n",
            "2    536365    84406B      CREAM CUPID HEARTS COAT HANGER         8   \n",
            "\n",
            "          InvoiceDate  UnitPrice  CustomerID         Country  TotalPrice  \\\n",
            "0 2010-12-01 08:26:00       2.55     17850.0  United Kingdom       15.30   \n",
            "1 2010-12-01 08:26:00       3.39     17850.0  United Kingdom       20.34   \n",
            "2 2010-12-01 08:26:00       2.75     17850.0  United Kingdom       22.00   \n",
            "\n",
            "   HighValue  DiscountedPrice  \n",
            "0      False            2.295  \n",
            "1       True            3.051  \n",
            "2       True            2.475  \n"
          ]
        }
      ],
      "source": [
        "df['DiscountedPrice'] = df['UnitPrice'].apply(lambda x: x* 0.9)\n",
        "print(df.head(3))"
      ]
    },
    {
      "cell_type": "code",
      "execution_count": 8,
      "metadata": {
        "colab": {
          "base_uri": "https://localhost:8080/"
        },
        "id": "EKwuDpemKbT0",
        "outputId": "f63412bc-26e1-44b6-c488-8ca66c4e8ea5"
      },
      "outputs": [
        {
          "name": "stdout",
          "output_type": "stream",
          "text": [
            "  InvoiceNo StockCode                          Description  Quantity  \\\n",
            "0    536365    85123A   WHITE HANGING HEART T-LIGHT HOLDER         6   \n",
            "1    536365     71053                  WHITE METAL LANTERN         6   \n",
            "2    536365    84406B       CREAM CUPID HEARTS COAT HANGER         8   \n",
            "3    536365    84029G  KNITTED UNION FLAG HOT WATER BOTTLE         6   \n",
            "4    536365    84029E       RED WOOLLY HOTTIE WHITE HEART.         6   \n",
            "5    536365     22752         SET 7 BABUSHKA NESTING BOXES         2   \n",
            "6    536365     21730    GLASS STAR FROSTED T-LIGHT HOLDER         6   \n",
            "7    536366     22633               HAND WARMER UNION JACK         6   \n",
            "8    536366     22632            HAND WARMER RED POLKA DOT         6   \n",
            "9    536367     84879        ASSORTED COLOUR BIRD ORNAMENT        32   \n",
            "\n",
            "          InvoiceDate  UnitPrice  CustomerID         Country  TotalPrice  \\\n",
            "0 2010-12-01 08:26:00       2.55     17850.0  United Kingdom       15.30   \n",
            "1 2010-12-01 08:26:00       3.39     17850.0  United Kingdom       20.34   \n",
            "2 2010-12-01 08:26:00       2.75     17850.0  United Kingdom       22.00   \n",
            "3 2010-12-01 08:26:00       3.39     17850.0  United Kingdom       20.34   \n",
            "4 2010-12-01 08:26:00       3.39     17850.0  United Kingdom       20.34   \n",
            "5 2010-12-01 08:26:00       7.65     17850.0  United Kingdom       15.30   \n",
            "6 2010-12-01 08:26:00       4.25     17850.0  United Kingdom       25.50   \n",
            "7 2010-12-01 08:28:00       1.85     17850.0  United Kingdom       11.10   \n",
            "8 2010-12-01 08:28:00       1.85     17850.0  United Kingdom       11.10   \n",
            "9 2010-12-01 08:34:00       1.69     13047.0  United Kingdom       54.08   \n",
            "\n",
            "   HighValue  DiscountedPrice PriceCategory  \n",
            "0      False            2.295        Medium  \n",
            "1       True            3.051        Medium  \n",
            "2       True            2.475        Medium  \n",
            "3       True            3.051        Medium  \n",
            "4       True            3.051        Medium  \n",
            "5      False            6.885        Medium  \n",
            "6       True            3.825        Medium  \n",
            "7      False            1.665        Medium  \n",
            "8      False            1.665        Medium  \n",
            "9       True            1.521        Medium  \n"
          ]
        }
      ],
      "source": [
        "def categorize_price(price):\n",
        "  if price > 50:\n",
        "    return 'High'\n",
        "  elif price < 20:\n",
        "    return 'Medium'\n",
        "  else:\n",
        "    return 'Low'\n",
        "\n",
        "df['PriceCategory'] = df['UnitPrice'].apply(categorize_price)\n",
        "print(df.head(10))"
      ]
    },
    {
      "cell_type": "code",
      "execution_count": 9,
      "metadata": {},
      "outputs": [
        {
          "name": "stdout",
          "output_type": "stream",
          "text": [
            "StockCode             10002  10080  10120  10123C  10123G  10124A  10124G  \\\n",
            "Country                                                                     \n",
            "Australia               NaN    NaN    NaN     NaN     NaN     NaN     NaN   \n",
            "Austria                 NaN    NaN    NaN     NaN     NaN     NaN     NaN   \n",
            "Bahrain                 NaN    NaN    NaN     NaN     NaN     NaN     NaN   \n",
            "Belgium                 NaN    NaN    NaN     NaN     NaN     NaN     NaN   \n",
            "Brazil                  NaN    NaN    NaN     NaN     NaN     NaN     NaN   \n",
            "Canada                  NaN    NaN    NaN     NaN     NaN     NaN     NaN   \n",
            "Channel Islands         NaN    NaN    NaN     NaN     NaN     NaN     NaN   \n",
            "Cyprus                  NaN    NaN    NaN     NaN     NaN     NaN     NaN   \n",
            "Czech Republic          NaN    NaN    NaN     NaN     NaN     NaN     NaN   \n",
            "Denmark                 NaN    NaN    NaN     NaN     NaN     NaN     NaN   \n",
            "EIRE                   12.0    NaN    NaN     NaN     NaN     NaN     NaN   \n",
            "European Community      NaN    NaN    NaN     NaN     NaN     NaN     NaN   \n",
            "Finland                 NaN    NaN    NaN     NaN     NaN     NaN     NaN   \n",
            "France                372.0    NaN   10.0     NaN     NaN     NaN     NaN   \n",
            "Germany                 1.0    NaN    NaN     NaN     NaN     NaN     NaN   \n",
            "Greece                  NaN    NaN    NaN     NaN     NaN     NaN     NaN   \n",
            "Hong Kong               NaN    NaN    NaN     NaN     NaN     NaN     NaN   \n",
            "Iceland                 NaN    NaN    NaN     NaN     NaN     NaN     NaN   \n",
            "Israel                  NaN    NaN    NaN     NaN     NaN     NaN     NaN   \n",
            "Italy                   NaN    NaN    NaN     NaN     NaN     NaN     NaN   \n",
            "Japan                   1.0    NaN    NaN     NaN     NaN     NaN     NaN   \n",
            "Lebanon                 NaN    NaN    NaN     NaN     NaN     NaN     NaN   \n",
            "Lithuania               NaN    NaN    NaN     NaN     NaN     NaN     NaN   \n",
            "Malta                   NaN    NaN    NaN     NaN     NaN     NaN     NaN   \n",
            "Netherlands             NaN    NaN    NaN     NaN     NaN     NaN     NaN   \n",
            "Norway                  NaN    NaN    NaN     NaN     NaN     NaN     NaN   \n",
            "Poland                  NaN    NaN    NaN     NaN     NaN     NaN     NaN   \n",
            "Portugal                NaN    NaN    NaN     NaN     NaN     NaN     NaN   \n",
            "RSA                     NaN    NaN    NaN     NaN     NaN     NaN     NaN   \n",
            "Saudi Arabia            NaN    NaN    NaN     NaN     NaN     NaN     NaN   \n",
            "Singapore               NaN    NaN    NaN     NaN     NaN     NaN     NaN   \n",
            "Spain                  24.0    NaN    NaN     NaN     NaN     NaN     NaN   \n",
            "Sweden                  NaN    NaN    NaN     NaN     NaN     NaN     NaN   \n",
            "Switzerland            12.0    NaN    NaN     NaN     NaN     NaN     NaN   \n",
            "USA                     NaN    NaN    NaN     NaN     NaN     NaN     NaN   \n",
            "United Arab Emirates    NaN    NaN    NaN     NaN     NaN     NaN     NaN   \n",
            "United Kingdom        615.0  495.0  183.0   -13.0   -38.0    16.0    17.0   \n",
            "Unspecified             NaN    NaN    NaN     NaN     NaN     NaN     NaN   \n",
            "\n",
            "StockCode             10125   10133  10134  ...       M  PADS    POST     S  \\\n",
            "Country                                     ...                               \n",
            "Australia               NaN     NaN    NaN  ...     NaN   NaN     0.0   NaN   \n",
            "Austria                 NaN     NaN    NaN  ...     NaN   NaN    37.0   NaN   \n",
            "Bahrain                 NaN     NaN    NaN  ...     NaN   NaN     NaN   NaN   \n",
            "Belgium                 NaN     NaN    NaN  ...     NaN   NaN   272.0   NaN   \n",
            "Brazil                  NaN     NaN    NaN  ...     NaN   NaN     NaN   NaN   \n",
            "Canada                  NaN    40.0    NaN  ...     NaN   NaN     1.0   NaN   \n",
            "Channel Islands         NaN     NaN    NaN  ...     0.0   NaN     NaN   NaN   \n",
            "Cyprus                  NaN     NaN    NaN  ...     0.0   NaN     1.0   NaN   \n",
            "Czech Republic          NaN     NaN    NaN  ...     NaN   NaN     0.0   NaN   \n",
            "Denmark                 NaN     NaN    NaN  ...     NaN   NaN    41.0   NaN   \n",
            "EIRE                    NaN    40.0    NaN  ...    -2.0   NaN     NaN   NaN   \n",
            "European Community      NaN     NaN    NaN  ...     NaN   NaN     9.0   NaN   \n",
            "Finland                 NaN     NaN    NaN  ...     2.0   NaN    89.0   NaN   \n",
            "France                470.0     NaN    NaN  ...   -16.0   NaN   803.0   NaN   \n",
            "Germany               120.0     NaN    NaN  ...     2.0   NaN  1104.0   NaN   \n",
            "Greece                  NaN     NaN    NaN  ...     NaN   NaN     6.0   NaN   \n",
            "Hong Kong               NaN     NaN    NaN  ...     0.0   NaN     2.0   NaN   \n",
            "Iceland                 NaN     NaN    NaN  ...     NaN   NaN     NaN   NaN   \n",
            "Israel                  NaN    20.0    NaN  ...     NaN   NaN     NaN   NaN   \n",
            "Italy                   NaN     NaN    NaN  ...    -1.0   NaN    44.0   NaN   \n",
            "Japan                   NaN     NaN    NaN  ...    -3.0   NaN     NaN   NaN   \n",
            "Lebanon                 NaN     NaN    NaN  ...     NaN   NaN     NaN   NaN   \n",
            "Lithuania               NaN     NaN    NaN  ...     NaN   NaN     NaN   NaN   \n",
            "Malta                   NaN     NaN    NaN  ...     NaN   NaN    10.0   NaN   \n",
            "Netherlands             NaN     NaN    NaN  ...  -480.0   NaN    99.0   NaN   \n",
            "Norway                  NaN     NaN    NaN  ...     0.0   NaN    57.0   NaN   \n",
            "Poland                  NaN     NaN    NaN  ...     NaN   NaN     9.0   NaN   \n",
            "Portugal                NaN    20.0    NaN  ...     1.0   NaN    97.0   NaN   \n",
            "RSA                     NaN     NaN    NaN  ...     1.0   NaN     NaN   NaN   \n",
            "Saudi Arabia            NaN     NaN    NaN  ...     NaN   NaN     NaN   NaN   \n",
            "Singapore               NaN     NaN    NaN  ...     0.0   NaN     NaN   NaN   \n",
            "Spain                   NaN     NaN    NaN  ...    -3.0   NaN   209.0   NaN   \n",
            "Sweden                  NaN     NaN    NaN  ...     1.0   NaN    37.0   NaN   \n",
            "Switzerland            20.0    10.0    NaN  ...     NaN   NaN    97.0   NaN   \n",
            "USA                     NaN     NaN    NaN  ...     NaN   NaN     NaN   NaN   \n",
            "United Arab Emirates    NaN     NaN    NaN  ...     NaN   NaN     1.0   NaN   \n",
            "United Kingdom        686.0  2645.0  -19.0  ...  3662.0   4.0  3328.0 -59.0   \n",
            "Unspecified             NaN     NaN    NaN  ...     NaN   NaN     NaN   NaN   \n",
            "\n",
            "StockCode             gift_0001_10  gift_0001_20  gift_0001_30  gift_0001_40  \\\n",
            "Country                                                                        \n",
            "Australia                      NaN           NaN           NaN           NaN   \n",
            "Austria                        NaN           NaN           NaN           NaN   \n",
            "Bahrain                        NaN           NaN           NaN           NaN   \n",
            "Belgium                        NaN           NaN           NaN           NaN   \n",
            "Brazil                         NaN           NaN           NaN           NaN   \n",
            "Canada                         NaN           NaN           NaN           NaN   \n",
            "Channel Islands                NaN           NaN           NaN           NaN   \n",
            "Cyprus                         NaN           NaN           NaN           NaN   \n",
            "Czech Republic                 NaN           NaN           NaN           NaN   \n",
            "Denmark                        NaN           NaN           NaN           NaN   \n",
            "EIRE                           NaN           NaN           NaN           NaN   \n",
            "European Community             NaN           NaN           NaN           NaN   \n",
            "Finland                        NaN           NaN           NaN           NaN   \n",
            "France                         NaN           NaN           NaN           NaN   \n",
            "Germany                        NaN           NaN           NaN           NaN   \n",
            "Greece                         NaN           NaN           NaN           NaN   \n",
            "Hong Kong                      NaN           NaN           NaN           NaN   \n",
            "Iceland                        NaN           NaN           NaN           NaN   \n",
            "Israel                         NaN           NaN           NaN           NaN   \n",
            "Italy                          NaN           NaN           NaN           NaN   \n",
            "Japan                          NaN           NaN           NaN           NaN   \n",
            "Lebanon                        NaN           NaN           NaN           NaN   \n",
            "Lithuania                      NaN           NaN           NaN           NaN   \n",
            "Malta                          NaN           NaN           NaN           NaN   \n",
            "Netherlands                    NaN           NaN           NaN           NaN   \n",
            "Norway                         NaN           NaN           NaN           NaN   \n",
            "Poland                         NaN           NaN           NaN           NaN   \n",
            "Portugal                       NaN           NaN           NaN           NaN   \n",
            "RSA                            NaN           NaN           NaN           NaN   \n",
            "Saudi Arabia                   NaN           NaN           NaN           NaN   \n",
            "Singapore                      NaN           NaN           NaN           NaN   \n",
            "Spain                          NaN           NaN           NaN           NaN   \n",
            "Sweden                         NaN           NaN           NaN           NaN   \n",
            "Switzerland                    NaN           NaN           NaN           NaN   \n",
            "USA                            NaN           NaN           NaN           NaN   \n",
            "United Arab Emirates           NaN           NaN           NaN           NaN   \n",
            "United Kingdom                39.0          20.0          37.0           3.0   \n",
            "Unspecified                    NaN           NaN           NaN           NaN   \n",
            "\n",
            "StockCode             gift_0001_50    m  \n",
            "Country                                  \n",
            "Australia                      NaN  NaN  \n",
            "Austria                        NaN  NaN  \n",
            "Bahrain                        NaN  NaN  \n",
            "Belgium                        NaN  NaN  \n",
            "Brazil                         NaN  NaN  \n",
            "Canada                         NaN  NaN  \n",
            "Channel Islands                NaN  NaN  \n",
            "Cyprus                         NaN  NaN  \n",
            "Czech Republic                 NaN  NaN  \n",
            "Denmark                        NaN  NaN  \n",
            "EIRE                           NaN  NaN  \n",
            "European Community             NaN  NaN  \n",
            "Finland                        NaN  NaN  \n",
            "France                         NaN  NaN  \n",
            "Germany                        NaN  NaN  \n",
            "Greece                         NaN  NaN  \n",
            "Hong Kong                      NaN  NaN  \n",
            "Iceland                        NaN  NaN  \n",
            "Israel                         NaN  NaN  \n",
            "Italy                          NaN  NaN  \n",
            "Japan                          NaN  NaN  \n",
            "Lebanon                        NaN  NaN  \n",
            "Lithuania                      NaN  NaN  \n",
            "Malta                          NaN  NaN  \n",
            "Netherlands                    NaN  NaN  \n",
            "Norway                         NaN  NaN  \n",
            "Poland                         NaN  NaN  \n",
            "Portugal                       NaN  NaN  \n",
            "RSA                            NaN  NaN  \n",
            "Saudi Arabia                   NaN  NaN  \n",
            "Singapore                      NaN  NaN  \n",
            "Spain                          NaN  NaN  \n",
            "Sweden                         NaN  NaN  \n",
            "Switzerland                    NaN  NaN  \n",
            "USA                            NaN  NaN  \n",
            "United Arab Emirates           NaN  NaN  \n",
            "United Kingdom                 4.0  1.0  \n",
            "Unspecified                    NaN  NaN  \n",
            "\n",
            "[38 rows x 4070 columns]\n"
          ]
        }
      ],
      "source": [
        "pivot_table = pd.pivot_table(df, values = 'Quantity', index = 'Country',\n",
        "                             columns='StockCode', aggfunc='sum')\n",
        "\n",
        "print(pivot_table)"
      ]
    },
    {
      "cell_type": "markdown",
      "metadata": {},
      "source": [
        "merge, join, combinar"
      ]
    },
    {
      "cell_type": "code",
      "execution_count": 10,
      "metadata": {},
      "outputs": [],
      "source": [
        "# Ejercicios con merge()\n",
        "df1 = pd.DataFrame({\n",
        "  'key': ['A', 'B', 'C'],\n",
        "  'value1': [1,2,3]\n",
        "})\n",
        "\n",
        "df2 = pd.DataFrame({\n",
        "  'key': ['B', 'C', 'D'],\n",
        "  'value2': [4,5,6]\n",
        "})\n",
        "\n",
        "# Ejercicios con concat()\n",
        "df3 = pd.DataFrame({\n",
        "  'A': ['A0', 'A1', 'A2'],\n",
        "  'B': ['B0', 'B1', 'B2'],\n",
        "})\n",
        "\n",
        "df4 = pd.DataFrame({\n",
        "  'A': ['A3', 'A4', 'A5'],\n",
        "  'B': ['B3', 'B4', 'B5'],\n",
        "}) \n",
        "\n",
        "# Ejercicios con join()\n",
        "df5 = pd.DataFrame({\n",
        "    'A': ['A0', 'A1', 'A2'],\n",
        "    'B': ['B0', 'B1', 'B2']\n",
        "  }, \n",
        "  index = ['K0', 'K1', 'K2']\n",
        ") \n",
        "\n",
        "df6 = pd.DataFrame({\n",
        "    'C': ['C0', 'C1', 'C2'],\n",
        "    'D': ['DO', 'D1', 'D2']\n",
        "  }, \n",
        "  index = ['K0', 'K2', 'K3']\n",
        ")"
      ]
    },
    {
      "cell_type": "code",
      "execution_count": 11,
      "metadata": {},
      "outputs": [
        {
          "name": "stdout",
          "output_type": "stream",
          "text": [
            "  key  value1\n",
            "0   A       1\n",
            "1   B       2\n",
            "2   C       3\n",
            "  key  value2\n",
            "0   B       4\n",
            "1   C       5\n",
            "2   D       6\n",
            "  key  value1  value2\n",
            "0   B       2       4\n",
            "1   C       3       5\n",
            "  key  value1  value2\n",
            "0   A     1.0     NaN\n",
            "1   B     2.0     4.0\n",
            "2   C     3.0     5.0\n",
            "3   D     NaN     6.0\n",
            "  key  value1  value2\n",
            "0   A       1     NaN\n",
            "1   B       2     4.0\n",
            "2   C       3     5.0\n",
            "  key  value1  value2\n",
            "0   B     2.0       4\n",
            "1   C     3.0       5\n",
            "2   D     NaN       6\n"
          ]
        }
      ],
      "source": [
        "print(df1)\n",
        "print(df2)\n",
        "inner_merge = pd.merge(df1,df2, on='key',how='inner')\n",
        "print(inner_merge)\n",
        "\n",
        "outer_merge = pd.merge(df1,df2, on='key',how='outer')\n",
        "print(outer_merge)\n",
        "\n",
        "left_merge = pd.merge(df1,df2, on='key',how='left')\n",
        "print(left_merge)\n",
        "\n",
        "right_merge = pd.merge(df1,df2, on='key',how='right')\n",
        "print(right_merge)"
      ]
    },
    {
      "cell_type": "markdown",
      "metadata": {},
      "source": [
        "concatenacion de dataframe"
      ]
    },
    {
      "cell_type": "code",
      "execution_count": 12,
      "metadata": {},
      "outputs": [
        {
          "name": "stdout",
          "output_type": "stream",
          "text": [
            "    A   B\n",
            "0  A0  B0\n",
            "1  A1  B1\n",
            "2  A2  B2\n",
            "    A   B\n",
            "0  A3  B3\n",
            "1  A4  B4\n",
            "2  A5  B5\n",
            "    A   B\n",
            "0  A0  B0\n",
            "1  A1  B1\n",
            "2  A2  B2\n",
            "0  A3  B3\n",
            "1  A4  B4\n",
            "2  A5  B5\n",
            "    A   B   A   B\n",
            "0  A0  B0  A3  B3\n",
            "1  A1  B1  A4  B4\n",
            "2  A2  B2  A5  B5\n"
          ]
        }
      ],
      "source": [
        "print(df3)\n",
        "print(df4)\n",
        "\n",
        "vertical_concact = pd.concat([df3,df4])\n",
        "print(vertical_concact)\n",
        "\n",
        "hrizontal_concact = pd.concat([df3,df4],axis=1)\n",
        "print(hrizontal_concact)"
      ]
    },
    {
      "cell_type": "markdown",
      "metadata": {},
      "source": [
        "joinprint(df3)\n",
        "Existen varios tipos de joins en Pandas para combinar DataFrames. Aquí te dejo ejemplos de cada uno:\n",
        "\n",
        "Inner Join: Devuelve solo las filas con claves coincidentes en ambos DataFrames.\n",
        "\n",
        "\n",
        "result = df1.merge(df2, on='key', how='inner')\n",
        "Outer Join: Devuelve todas las filas de ambos DataFrames, llenando con NaN donde no hay coincidencias.\n",
        "\n",
        "\n",
        "result = df1.merge(df2, on='key', how='outer')\n",
        "Left Join: Devuelve todas las filas del DataFrame izquierdo y las coincidentes del derecho, llenando con NaN donde no hay coincidencias.\n",
        "\n",
        "\n",
        "result = df1.merge(df2, on='key', how='left')\n",
        "Right Join: Devuelve todas las filas del DataFrame derecho y las coincidentes del izquierdo, llenando con NaN donde no hay coincidencias.\n",
        "\n",
        "\n",
        "result = df1.merge(df2, on='key', how='right')\n",
        "Estos métodos son fundamentales para el análisis de datos en Pandas."
      ]
    },
    {
      "cell_type": "code",
      "execution_count": 13,
      "metadata": {},
      "outputs": [
        {
          "name": "stdout",
          "output_type": "stream",
          "text": [
            "     A   B\n",
            "K0  A0  B0\n",
            "K1  A1  B1\n",
            "K2  A2  B2\n",
            "     C   D\n",
            "K0  C0  DO\n",
            "K2  C1  D1\n",
            "K3  C2  D2\n",
            "     A   B   C   D\n",
            "K0  A0  B0  C0  DO\n",
            "K2  A2  B2  C1  D1\n",
            "      A    B    C    D\n",
            "K0   A0   B0   C0   DO\n",
            "K1   A1   B1  NaN  NaN\n",
            "K2   A2   B2   C1   D1\n",
            "K3  NaN  NaN   C2   D2\n",
            "     A   B    C    D\n",
            "K0  A0  B0   C0   DO\n",
            "K1  A1  B1  NaN  NaN\n",
            "K2  A2  B2   C1   D1\n",
            "      A    B   C   D\n",
            "K0   A0   B0  C0  DO\n",
            "K2   A2   B2  C1  D1\n",
            "K3  NaN  NaN  C2  D2\n"
          ]
        }
      ],
      "source": [
        "print(df5)\n",
        "print(df6)\n",
        "\n",
        "joined = df5.join(df6,how='inner')\n",
        "print(joined)\n",
        "joined = df5.join(df6,how='outer')\n",
        "print(joined)\n",
        "joined = df5.join(df6,how='left')\n",
        "print(joined)\n",
        "\n",
        "joined = df5.join(df6,how='right')\n",
        "print(joined)\n"
      ]
    }
  ],
  "metadata": {
    "colab": {
      "provenance": []
    },
    "kernelspec": {
      "display_name": "DC",
      "language": "python",
      "name": "python3"
    },
    "language_info": {
      "codemirror_mode": {
        "name": "ipython",
        "version": 3
      },
      "file_extension": ".py",
      "mimetype": "text/x-python",
      "name": "python",
      "nbconvert_exporter": "python",
      "pygments_lexer": "ipython3",
      "version": "3.13.2"
    }
  },
  "nbformat": 4,
  "nbformat_minor": 0
}
