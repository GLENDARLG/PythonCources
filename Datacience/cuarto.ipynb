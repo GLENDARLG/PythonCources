{
 "cells": [
  {
   "cell_type": "code",
   "execution_count": null,
   "metadata": {},
   "outputs": [
    {
     "name": "stdout",
     "output_type": "stream",
     "text": [
      "Matriz original:\n",
      " [[1 2 3]\n",
      " [4 5 6]\n",
      " [7 8 9]]\n",
      "Matriz transpuesta:\n",
      " [[1 4 7]\n",
      " [2 5 8]\n",
      " [3 6 9]]\n"
     ]
    }
   ],
   "source": [
    "import numpy as np\n",
    "matrix = np.array([[1, 2, 3], [4, 5, 6], [7, 8, 9]])\n",
    "transposed_matrix = matrix.T\n",
    "print(\"Matriz original:\\n\", matrix)\n",
    "print(\"Matriz transpuesta:\\n\", transposed_matrix)\n",
    "\n",
    "\n"
   ]
  },
  {
   "cell_type": "code",
   "execution_count": 2,
   "metadata": {},
   "outputs": [
    {
     "name": "stdout",
     "output_type": "stream",
     "text": [
      "Array original: [ 1  2  3  4  5  6  7  8  9 10 11 12]\n",
      "Array reshaped a 3x4:\n",
      " [[ 1  2  3  4]\n",
      " [ 5  6  7  8]\n",
      " [ 9 10 11 12]]\n"
     ]
    }
   ],
   "source": [
    "# Crea un array con los números del 1 al 12\n",
    "array = np.arange(1, 13)  \n",
    "# Cambia la forma del array a una matriz de 3 filas y 4 columnas\n",
    "reshaped_array = array.reshape(3, 4)  \n",
    "print(\"Array original:\", array)\n",
    "print(\"Array reshaped a 3x4:\\n\", reshaped_array)\n"
   ]
  },
  {
   "cell_type": "code",
   "execution_count": 3,
   "metadata": {},
   "outputs": [
    {
     "name": "stdout",
     "output_type": "stream",
     "text": [
      "Array original: [1 2 3 4 5]\n",
      "Array invertido: [5 4 3 2 1]\n"
     ]
    }
   ],
   "source": [
    "# Crea un array con los números del 1 al 5\n",
    "array = np.array([1, 2, 3, 4, 5])  \n",
    "# Invierte el array\n",
    "reversed_array = array[::-1]  \n",
    "print(\"Array original:\", array)\n",
    "print(\"Array invertido:\", reversed_array)\n"
   ]
  },
  {
   "cell_type": "code",
   "execution_count": 4,
   "metadata": {},
   "outputs": [
    {
     "name": "stdout",
     "output_type": "stream",
     "text": [
      "Array multidimensional:\n",
      " [[1 2 3]\n",
      " [4 5 6]\n",
      " [7 8 9]]\n",
      "Array aplanado: [1 2 3 4 5 6 7 8 9]\n"
     ]
    }
   ],
   "source": [
    "# Crea un array 2D\n",
    "multi_array = np.array([[1, 2, 3], [4, 5, 6], [7, 8, 9]]) \n",
    "# Aplana el array 2D a 1D\n",
    "flattened_array = multi_array.flatten()  \n",
    "print(\"Array multidimensional:\\n\", multi_array)\n",
    "print(\"Array aplanado:\", flattened_array)\n"
   ]
  }
 ],
 "metadata": {
  "kernelspec": {
   "display_name": "DC",
   "language": "python",
   "name": "python3"
  },
  "language_info": {
   "codemirror_mode": {
    "name": "ipython",
    "version": 3
   },
   "file_extension": ".py",
   "mimetype": "text/x-python",
   "name": "python",
   "nbconvert_exporter": "python",
   "pygments_lexer": "ipython3",
   "version": "3.13.2"
  }
 },
 "nbformat": 4,
 "nbformat_minor": 2
}
