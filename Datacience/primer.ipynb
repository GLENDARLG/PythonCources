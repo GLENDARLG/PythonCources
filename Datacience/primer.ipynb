{
 "cells": [
  {
   "cell_type": "markdown",
   "metadata": {},
   "source": [
    "Clase uno de  data cience with python"
   ]
  },
  {
   "cell_type": "code",
   "execution_count": 1,
   "metadata": {},
   "outputs": [
    {
     "name": "stdout",
     "output_type": "stream",
     "text": [
      "hola mundo\n"
     ]
    }
   ],
   "source": [
    "print('hola mundo')"
   ]
  },
  {
   "cell_type": "code",
   "execution_count": null,
   "metadata": {},
   "outputs": [
    {
     "name": "stdout",
     "output_type": "stream",
     "text": [
      "<class 'numpy.ndarray'>\n",
      "42\n",
      "<class 'numpy.ndarray'>\n",
      "[39 42 31 33 35 36 38 49]\n",
      "<class 'numpy.ndarray'>\n",
      "[[1 2 3]\n",
      " [4 5 6]\n",
      " [7 8 9]]\n",
      "<class 'numpy.ndarray'>\n",
      "[[[1 2 3]\n",
      "  [4 5 6]\n",
      "  [7 8 9]]]\n"
     ]
    }
   ],
   "source": [
    "import  numpy as  np \n",
    "\n",
    "escalar  = np.array(42)\n",
    "print(type(escalar))\n",
    "print(escalar)\n",
    "\n",
    "vector = np.array([39,42,31,33,35,36,38,49])\n",
    "print(type(vector))\n",
    "print(vector)\n",
    "\n",
    "matriz = np.array([[1,2,3], \n",
    "                   [4,5,6], \n",
    "                   [7,8,9]])\n",
    "print(type(matriz))\n",
    "print(matriz)\n",
    "\n",
    "tensor = np.array([[[1,2,3], \n",
    "                   [4,5,6], \n",
    "                   [7,8,9]])\n",
    "\n",
    "print(type(tensor))\n",
    "print(tensor)\n"
   ]
  },
  {
   "cell_type": "code",
   "execution_count": 19,
   "metadata": {},
   "outputs": [
    {
     "name": "stdout",
     "output_type": "stream",
     "text": [
      "[ 0  1  2  3  4  5  6  7  8  9 10 11 12 13 14 15 16 17 18 19 20 21 22 23\n",
      " 24 25 26 27 28 29 30 31 32 33 34 35 36 37 38 39 40 41 42 43 44 45 46 47\n",
      " 48 49 50 51 52 53]\n",
      "[[1. 0. 0. 0. 0. 0.]\n",
      " [0. 1. 0. 0. 0. 0.]\n",
      " [0. 0. 1. 0. 0. 0.]\n",
      " [0. 0. 0. 1. 0. 0.]\n",
      " [0. 0. 0. 0. 1. 0.]\n",
      " [0. 0. 0. 0. 0. 1.]]\n",
      "[[1 0 0 0 0 0]\n",
      " [0 2 0 0 0 0]\n",
      " [0 0 3 0 0 0]\n",
      " [0 0 0 4 0 0]\n",
      " [0 0 0 0 5 0]\n",
      " [0 0 0 0 0 6]]\n",
      "[[0.07791593 0.16433432 0.93236892 0.93734886 0.68909874]\n",
      " [0.88786324 0.08192919 0.1470859  0.08429675 0.40599094]\n",
      " [0.09452414 0.09171835 0.60604165 0.12994853 0.49045235]\n",
      " [0.19446829 0.92559315 0.90734539 0.89186146 0.07513121]\n",
      " [0.07551691 0.84844325 0.82462561 0.10095495 0.95624823]\n",
      " [0.31066816 0.28475713 0.7978828  0.13344013 0.00907811]\n",
      " [0.24888665 0.59020038 0.82063198 0.21082706 0.06595891]]\n"
     ]
    }
   ],
   "source": [
    "array_arange = np.arange(54)\n",
    "print(array_arange)\n",
    "\n",
    "matrix_eye= np.eye(6)\n",
    "print(matrix_eye)\n",
    "\n",
    "diag_matrix = np.diag([1,2,3,4,5,6])\n",
    "print(diag_matrix)\n",
    "\n",
    "random_matrix = np.random.random((7,5))\n",
    "print(random_matrix)"
   ]
  },
  {
   "cell_type": "code",
   "execution_count": 27,
   "metadata": {},
   "outputs": [
    {
     "name": "stdout",
     "output_type": "stream",
     "text": [
      "[[0. 0. 0. 0.]\n",
      " [0. 0. 0. 0.]\n",
      " [0. 0. 0. 0.]]\n",
      "[[1. 1. 1.]\n",
      " [1. 1. 1.]]\n",
      "[[-0.13871528  2.14694784  0.63453993]\n",
      " [ 0.61898149 -0.90094654  1.38107237]\n",
      " [ 0.69673183 -1.4175785   1.49485203]]\n",
      "[ 0.   2.5  5.   7.5 10. ]\n",
      "[[ 0.57805389 -0.73074227  0.00567503]\n",
      " [ 1.18649397  1.35778547  0.49597766]\n",
      " [ 1.32899048  0.16486532  0.97842956]]\n",
      "[[3 2 8]\n",
      " [1 3 1]\n",
      " [1 5 2]]\n"
     ]
    }
   ],
   "source": [
    "#tarea otros metodos \n",
    "print(np.zeros((3, 4)))  # Matriz 3x4 de ceros)\n",
    "print(np.ones((2, 3)))  # Matriz 2x3 de unos)\n",
    "print(np.empty((3, 3)))  # Matriz 3x3 sin inicializar)\n",
    "print(np.linspace(0, 10, 5)) # [ 0.   2.5  5.   7.5 10. ]  Crea un array con valores espaciados uniformemente entre dos números:\n",
    "print(np.random.randn(3, 3)) # Matriz 3x3 con distribución normal estándar\n",
    "print(np.random.randint(1, 10, (3, 3)))  # Matriz 3x3 con enteros entre 1 y 9"
   ]
  }
 ],
 "metadata": {
  "kernelspec": {
   "display_name": "DC",
   "language": "python",
   "name": "python3"
  },
  "language_info": {
   "codemirror_mode": {
    "name": "ipython",
    "version": 3
   },
   "file_extension": ".py",
   "mimetype": "text/x-python",
   "name": "python",
   "nbconvert_exporter": "python",
   "pygments_lexer": "ipython3",
   "version": "3.13.2"
  }
 },
 "nbformat": 4,
 "nbformat_minor": 2
}
