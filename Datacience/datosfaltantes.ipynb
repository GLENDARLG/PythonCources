{
 "cells": [
  {
   "cell_type": "code",
   "execution_count": 8,
   "metadata": {},
   "outputs": [
    {
     "name": "stdout",
     "output_type": "stream",
     "text": [
      "   Producto  Cantidad  Precio Unitario\n",
      "0     False     False            False\n",
      "1     False      True            False\n",
      "2     False     False            False\n",
      "3     False     False            False\n",
      "4      True     False            False\n",
      "Datos sin filas con valores faltantes:\n",
      "   Producto  Cantidad  Precio Unitario\n",
      "0        A      10.0              1.1\n",
      "2        C      30.0              3.3\n",
      "3        D      40.0              4.4\n",
      "Datos sin columnas con valores faltantes:\n",
      "    Precio Unitario\n",
      "0              1.1\n",
      "1              2.2\n",
      "2              3.3\n",
      "3              4.4\n",
      "4              5.5\n"
     ]
    }
   ],
   "source": [
    "import pandas as pd\n",
    "path = 'data/online_retail.csv'\n",
    "retail_data = pd.read_csv(path)\n",
    "\n",
    "# Ejemplo de dataset de retail\n",
    "retail_data = pd.DataFrame({\n",
    "    'Producto': ['A', 'B', 'C', 'D', None],\n",
    "    'Cantidad': [10, None, 30, 40, 50],\n",
    "    'Precio Unitario': [1.1, 2.2, 3.3, 4.4, 5.5]\n",
    "})\n",
    "\n",
    "# Método para identificar valores faltantes\n",
    "datos_faltantes = retail_data.isnull()\n",
    "print(datos_faltantes.head())\n",
    "\n",
    "# Eliminar filas con valores faltantes\n",
    "datos_sin_filas_faltantes = retail_data.dropna()\n",
    "print(\"Datos sin filas con valores faltantes:\\n\", datos_sin_filas_faltantes)\n",
    "\n",
    "# Eliminar columnas con valores faltantes\n",
    "datos_sin_columnas_faltantes = retail_data.dropna(axis=1)\n",
    "print(\"Datos sin columnas con valores faltantes:\\n\", datos_sin_columnas_faltantes)\n"
   ]
  },
  {
   "cell_type": "code",
   "execution_count": 22,
   "metadata": {},
   "outputs": [
    {
     "name": "stdout",
     "output_type": "stream",
     "text": [
      "  Producto  Cantidad  Precio Unitario\n",
      "0        A      10.0              1.1\n",
      "1        B       0.0              2.2\n",
      "2        C      30.0              3.3\n",
      "3        D      40.0              4.4\n",
      "4        0      50.0              5.5\n",
      "  Producto  Cantidad  Precio Unitario\n",
      "0        A      10.0              1.1\n",
      "1        B       NaN              NaN\n",
      "2        C      30.0              3.3\n",
      "3        D      40.0              4.4\n",
      "4     None      50.0              5.5\n"
     ]
    }
   ],
   "source": [
    "# Ejemplo de dataset de retail\n",
    "retail_data = pd.DataFrame({\n",
    "    'Producto': ['A', 'B', 'C', 'D', None],\n",
    "    'Cantidad': [10, None, 30, 40, 50],\n",
    "    'Precio Unitario': [1.1, 2.2, 3.3, 4.4, 5.5]\n",
    "})\n",
    "\n",
    "\n",
    "retail_data_filled = retail_data.fillna(0)\n",
    "print(retail_data_filled)\n",
    "\n",
    "retail_data = pd.DataFrame({\n",
    "    'Producto': ['A', 'B', 'C', 'D', None],\n",
    "    'Cantidad': [10, None, 30, 40, 50],\n",
    "    'Precio Unitario': [1.1, None ,3.3, 4.4, 5.5]\n",
    "})\n",
    "\n",
    "\n",
    "#Llenar con la media de la columna:\n",
    "# Calcular la media del Precio Unitario\n",
    "media_precio_unitario = retail_data['Precio Unitario'].mean()\n",
    "\n",
    "# Llenar valores faltantes con la media\n",
    "deta = retail_data['Precio Unitario'].fillna(media_precio_unitario)\n",
    "##retail_data = retail_data.fillna({'Precio Unitario': retail_data['Precio Unitario'].mean()})\n",
    "#retail_data['Precio Unitario'].fillna(media_precio_unitario, inplace=True)\n",
    "print(retail_data)\n"
   ]
  },
  {
   "cell_type": "code",
   "execution_count": null,
   "metadata": {},
   "outputs": [],
   "source": []
  }
 ],
 "metadata": {
  "kernelspec": {
   "display_name": "DC",
   "language": "python",
   "name": "python3"
  },
  "language_info": {
   "codemirror_mode": {
    "name": "ipython",
    "version": 3
   },
   "file_extension": ".py",
   "mimetype": "text/x-python",
   "name": "python",
   "nbconvert_exporter": "python",
   "pygments_lexer": "ipython3",
   "version": "3.13.2"
  }
 },
 "nbformat": 4,
 "nbformat_minor": 2
}
