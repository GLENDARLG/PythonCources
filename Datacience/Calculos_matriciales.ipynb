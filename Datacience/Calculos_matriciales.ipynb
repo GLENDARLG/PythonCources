{
  "cells": [
    {
      "cell_type": "markdown",
      "metadata": {
        "id": "uI7_YNwXlMe1"
      },
      "source": [
        "# 9 Cálculos Matriciales"
      ]
    },
    {
      "cell_type": "code",
      "execution_count": 11,
      "metadata": {
        "id": "3s0qaCHwFEhn"
      },
      "outputs": [],
      "source": [
        "import numpy as np"
      ]
    },
    {
      "cell_type": "code",
      "execution_count": 12,
      "metadata": {
        "colab": {
          "base_uri": "https://localhost:8080/"
        },
        "id": "IUwJN9AQE921",
        "outputId": "03171485-6a6d-4e3d-b1cd-62d8bcb59930"
      },
      "outputs": [
        {
          "name": "stdout",
          "output_type": "stream",
          "text": [
            "[[1 2]\n",
            " [3 4]]\n",
            "[[5 6]\n",
            " [7 8]]\n",
            "[[ 6  8]\n",
            " [10 12]]\n"
          ]
        }
      ],
      "source": [
        "A = np.array([[1,2],[3,4]])\n",
        "B = np.array([[5,6],[7,8]])\n",
        "\n",
        "#Suma\n",
        "sum = A + B\n",
        "print(A)\n",
        "print(B)\n",
        "print(sum)"
      ]
    },
    {
      "cell_type": "code",
      "execution_count": 13,
      "metadata": {
        "colab": {
          "base_uri": "https://localhost:8080/"
        },
        "id": "LmcKUXfIFGvc",
        "outputId": "a11f58c4-dc4e-457c-f1ca-a9a3df9e940c"
      },
      "outputs": [
        {
          "name": "stdout",
          "output_type": "stream",
          "text": [
            "[[19 22]\n",
            " [43 50]]\n"
          ]
        }
      ],
      "source": [
        "#Multiplicación\n",
        "product = np.dot(A, B)\n",
        "print(product)"
      ]
    },
    {
      "cell_type": "code",
      "execution_count": 14,
      "metadata": {
        "colab": {
          "base_uri": "https://localhost:8080/"
        },
        "id": "0WNYSyjXFIk_",
        "outputId": "e9a9545d-ed89-430d-fecc-08b9d9bba4c5"
      },
      "outputs": [
        {
          "name": "stdout",
          "output_type": "stream",
          "text": [
            "[[1 2]\n",
            " [3 4]]\n",
            "-2.0000000000000004\n",
            "[[-2.   1. ]\n",
            " [ 1.5 -0.5]]\n"
          ]
        }
      ],
      "source": [
        "A = np.array([[1,2],[3,4]])\n",
        "det_A = np.linalg.det(A)\n",
        "inv_A = np.linalg.inv(A)\n",
        "print(A)\n",
        "print(det_A)\n",
        "print(inv_A)"
      ]
    },
    {
      "cell_type": "code",
      "execution_count": 15,
      "metadata": {
        "colab": {
          "base_uri": "https://localhost:8080/"
        },
        "id": "hTb-Ss53FKHU",
        "outputId": "f27a2adf-a989-4c95-e842-2dd58ee61683"
      },
      "outputs": [
        {
          "name": "stdout",
          "output_type": "stream",
          "text": [
            "[-7.  8.]\n"
          ]
        }
      ],
      "source": [
        "#Resolver Ax = b\n",
        "b = np.array([9,11])\n",
        "x = np.linalg.solve(A,b)\n",
        "print(x)"
      ]
    }
  ],
  "metadata": {
    "colab": {
      "provenance": []
    },
    "kernelspec": {
      "display_name": "DC",
      "language": "python",
      "name": "python3"
    },
    "language_info": {
      "codemirror_mode": {
        "name": "ipython",
        "version": 3
      },
      "file_extension": ".py",
      "mimetype": "text/x-python",
      "name": "python",
      "nbconvert_exporter": "python",
      "pygments_lexer": "ipython3",
      "version": "3.13.2"
    }
  },
  "nbformat": 4,
  "nbformat_minor": 0
}
