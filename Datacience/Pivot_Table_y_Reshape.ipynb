{
  "cells": [
    {
      "cell_type": "markdown",
      "metadata": {
        "id": "uI7_YNwXlMe1"
      },
      "source": [
        "# Pivot Table y Reshape"
      ]
    },
    {
      "cell_type": "code",
      "execution_count": 2,
      "metadata": {},
      "outputs": [],
      "source": [
        "import pandas as pd\n",
        "\n",
        "path = 'data/online_retail.csv'\n",
        "df = pd.read_csv(path)"
      ]
    },
    {
      "cell_type": "code",
      "execution_count": 3,
      "metadata": {
        "id": "szl2ObnqS8vf"
      },
      "outputs": [
        {
          "ename": "NameError",
          "evalue": "name 'sales_data' is not defined",
          "output_type": "error",
          "traceback": [
            "\u001b[31m---------------------------------------------------------------------------\u001b[39m",
            "\u001b[31mNameError\u001b[39m                                 Traceback (most recent call last)",
            "\u001b[36mCell\u001b[39m\u001b[36m \u001b[39m\u001b[32mIn[3]\u001b[39m\u001b[32m, line 1\u001b[39m\n\u001b[32m----> \u001b[39m\u001b[32m1\u001b[39m pivot_table = pd.pivot_table(\u001b[43msales_data\u001b[49m, values = \u001b[33m'\u001b[39m\u001b[33mQuantity\u001b[39m\u001b[33m'\u001b[39m, index = \u001b[33m'\u001b[39m\u001b[33mCountry\u001b[39m\u001b[33m'\u001b[39m,\n\u001b[32m      2\u001b[39m                              columns=\u001b[33m'\u001b[39m\u001b[33mStockCode\u001b[39m\u001b[33m'\u001b[39m, aggfunc=\u001b[33m'\u001b[39m\u001b[33msum\u001b[39m\u001b[33m'\u001b[39m)\n\u001b[32m      3\u001b[39m \u001b[38;5;28mprint\u001b[39m(pivot_table)\n",
            "\u001b[31mNameError\u001b[39m: name 'sales_data' is not defined"
          ]
        }
      ],
      "source": [
        "pivot_table = pd.pivot_table(sales_data, values = 'Quantity', index = 'Country',\n",
        "                             columns='StockCode', aggfunc='sum')\n",
        "print(pivot_table)"
      ]
    },
    {
      "cell_type": "code",
      "execution_count": 4,
      "metadata": {
        "colab": {
          "base_uri": "https://localhost:8080/"
        },
        "id": "8gQuYlrtTSEx",
        "outputId": "993ac037-373f-4b90-9d00-4e1807d07f65"
      },
      "outputs": [
        {
          "name": "stdout",
          "output_type": "stream",
          "text": [
            "     A  B  C\n",
            "0  foo  1  4\n",
            "1  bar  2  5\n",
            "2  baz  3  6\n"
          ]
        }
      ],
      "source": [
        "df = pd.DataFrame({\n",
        "    'A': ['foo', 'bar', 'baz'],\n",
        "    'B': [1, 2, 3],\n",
        "    'C': [4, 5, 6]\n",
        "})\n",
        "print(df)"
      ]
    },
    {
      "cell_type": "code",
      "execution_count": 5,
      "metadata": {
        "colab": {
          "base_uri": "https://localhost:8080/"
        },
        "id": "NJX5GdNLTT-8",
        "outputId": "2d79686f-bd67-4c52-ecdf-3a4120b38ec9"
      },
      "outputs": [
        {
          "name": "stdout",
          "output_type": "stream",
          "text": [
            "0  A    foo\n",
            "   B      1\n",
            "   C      4\n",
            "1  A    bar\n",
            "   B      2\n",
            "   C      5\n",
            "2  A    baz\n",
            "   B      3\n",
            "   C      6\n",
            "dtype: object\n"
          ]
        }
      ],
      "source": [
        "df_stacked = df.stack()\n",
        "print(df_stacked)"
      ]
    }
  ],
  "metadata": {
    "colab": {
      "provenance": []
    },
    "kernelspec": {
      "display_name": "DC",
      "language": "python",
      "name": "python3"
    },
    "language_info": {
      "codemirror_mode": {
        "name": "ipython",
        "version": 3
      },
      "file_extension": ".py",
      "mimetype": "text/x-python",
      "name": "python",
      "nbconvert_exporter": "python",
      "pygments_lexer": "ipython3",
      "version": "3.13.2"
    }
  },
  "nbformat": 4,
  "nbformat_minor": 0
}
